{
 "cells": [
  {
   "cell_type": "code",
   "execution_count": 3,
   "metadata": {},
   "outputs": [
    {
     "name": "stdout",
     "output_type": "stream",
     "text": [
      "id: ········\n",
      "password: ········\n",
      "Connection Successful\n"
     ]
    }
   ],
   "source": [
    "import pandas as pd\n",
    "import getpass\n",
    "from functions import connect_mysql, mysql_list\n",
    "\n",
    "# Input User id\n",
    "try:\n",
    "    # password input hashed\n",
    "    id = getpass.getpass(\"id: \") \n",
    "except Exception as ex:\n",
    "    print('Error Occured : ', ex)\n",
    "#Input password\n",
    "try:\n",
    "    # password input hashed\n",
    "    pwd = getpass.getpass(\"password: \") \n",
    "except Exception as ex:\n",
    "    print('Error Occured : ', ex)\n",
    "\n",
    "#host for RDS connection\n",
    "host = \"mdsi-dsp-spr-2020.cehiwpryiego.ap-southeast-2.rds.amazonaws.com\"\n",
    "mydb = connect_mysql(host, id, pwd)\n",
    "\n",
    "if mydb: \n",
    "    print(\"Connection Successful\")\n",
    "    "
   ]
  },
  {
   "cell_type": "code",
   "execution_count": 2,
   "metadata": {},
   "outputs": [
    {
     "name": "stdout",
     "output_type": "stream",
     "text": [
      "['asx', 'information_schema', 'mysql', 'performance_schema']\n"
     ]
    }
   ],
   "source": [
    "from functions import mysql_list\n",
    "mydb = connect_mysql(host, id, pwd)\n",
    "mycursor = mydb.cursor()\n",
    "mycursor.execute(\"SHOW DATABASES;\")\n",
    "# create a list of database\n",
    "db_list = mysql_list(mycursor.fetchall())\n",
    "print(db_list) \n",
    "# asx is the database to be used\n",
    "db = \"asx\""
   ]
  },
  {
   "cell_type": "code",
   "execution_count": 3,
   "metadata": {},
   "outputs": [
    {
     "name": "stdout",
     "output_type": "stream",
     "text": [
      "['asx200', 'asx_all', 'cashrate']\n"
     ]
    }
   ],
   "source": [
    "mydb = connect_mysql(host, id, pwd, db)\n",
    "mycursor = mydb.cursor()\n",
    "mycursor.execute(\"SHOW TABLES;\")\n",
    "tb_list = mysql_list(mycursor.fetchall())\n",
    "print(tb_list)"
   ]
  },
  {
   "cell_type": "code",
   "execution_count": 4,
   "metadata": {},
   "outputs": [
    {
     "ename": "NameError",
     "evalue": "name 'db' is not defined",
     "output_type": "error",
     "traceback": [
      "\u001b[1;31m---------------------------------------------------------------------------\u001b[0m",
      "\u001b[1;31mNameError\u001b[0m                                 Traceback (most recent call last)",
      "\u001b[1;32m<ipython-input-4-3bb6274d67e0>\u001b[0m in \u001b[0;36m<module>\u001b[1;34m\u001b[0m\n\u001b[0;32m      1\u001b[0m \u001b[1;32mfrom\u001b[0m \u001b[0mIPython\u001b[0m\u001b[1;33m.\u001b[0m\u001b[0mdisplay\u001b[0m \u001b[1;32mimport\u001b[0m \u001b[0mdisplay\u001b[0m\u001b[1;33m,\u001b[0m \u001b[0mHTML\u001b[0m\u001b[1;33m\u001b[0m\u001b[1;33m\u001b[0m\u001b[0m\n\u001b[1;32m----> 2\u001b[1;33m \u001b[0mmydb\u001b[0m \u001b[1;33m=\u001b[0m \u001b[0mconnect_mysql\u001b[0m\u001b[1;33m(\u001b[0m\u001b[0mhost\u001b[0m\u001b[1;33m,\u001b[0m \u001b[0mid\u001b[0m\u001b[1;33m,\u001b[0m \u001b[0mpwd\u001b[0m\u001b[1;33m,\u001b[0m \u001b[0mdb\u001b[0m\u001b[1;33m)\u001b[0m\u001b[1;33m\u001b[0m\u001b[1;33m\u001b[0m\u001b[0m\n\u001b[0m\u001b[0;32m      3\u001b[0m \u001b[1;33m\u001b[0m\u001b[0m\n\u001b[0;32m      4\u001b[0m \u001b[0masx\u001b[0m \u001b[1;33m=\u001b[0m \u001b[0mpd\u001b[0m\u001b[1;33m.\u001b[0m\u001b[0mDataFrame\u001b[0m\u001b[1;33m(\u001b[0m\u001b[0mcolumns\u001b[0m\u001b[1;33m=\u001b[0m\u001b[1;33m[\u001b[0m\u001b[1;34m'Date'\u001b[0m\u001b[1;33m,\u001b[0m\u001b[1;34m'Open'\u001b[0m\u001b[1;33m,\u001b[0m\u001b[1;34m'High'\u001b[0m\u001b[1;33m,\u001b[0m\u001b[1;34m'Low'\u001b[0m\u001b[1;33m,\u001b[0m\u001b[1;34m'Close'\u001b[0m\u001b[1;33m,\u001b[0m\u001b[1;34m'Adj Close'\u001b[0m\u001b[1;33m,\u001b[0m\u001b[1;34m'Volume'\u001b[0m\u001b[1;33m]\u001b[0m\u001b[1;33m)\u001b[0m\u001b[1;33m\u001b[0m\u001b[1;33m\u001b[0m\u001b[0m\n\u001b[0;32m      5\u001b[0m \u001b[1;33m\u001b[0m\u001b[0m\n",
      "\u001b[1;31mNameError\u001b[0m: name 'db' is not defined"
     ]
    }
   ],
   "source": [
    "from IPython.display import display, HTML\n",
    "mydb = connect_mysql(host, id, pwd, db)\n",
    "\n",
    "\n",
    "\n",
    "\n",
    "for tb in tb_list:\n",
    "    df = pd.read_sql_query(\"SELECT * FROM %s\" % (tb), con=mydb)\n",
    "    print(tb)\n",
    "    display(df.head())\n",
    "\n",
    "mydb.close()"
   ]
  }
 ],
 "metadata": {
  "kernelspec": {
   "display_name": "Python 3",
   "language": "python",
   "name": "python3"
  },
  "language_info": {
   "codemirror_mode": {
    "name": "ipython",
    "version": 3
   },
   "file_extension": ".py",
   "mimetype": "text/x-python",
   "name": "python",
   "nbconvert_exporter": "python",
   "pygments_lexer": "ipython3",
   "version": "3.8.3"
  }
 },
 "nbformat": 4,
 "nbformat_minor": 4
}
