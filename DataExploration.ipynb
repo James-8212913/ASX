{
 "cells": [
  {
   "cell_type": "code",
   "execution_count": 1,
   "metadata": {},
   "outputs": [
    {
     "name": "stdout",
     "output_type": "stream",
     "text": [
      "id: ········\n",
      "password: ········\n",
      "Connection Successful\n"
     ]
    }
   ],
   "source": [
    "import pandas as pd\n",
    "import getpass\n",
    "from functions import connect_mysql, mysql_list\n",
    "import seaborn as sns\n",
    "import matplotlib.pyplot as plt\n",
    "from IPython.display import display\n",
    "# Input User id\n",
    "try:\n",
    "    # password input hashed\n",
    "    id = getpass.getpass(\"id: \") \n",
    "except Exception as ex:\n",
    "    print('Error Occured : ', ex)\n",
    "#Input password\n",
    "try:\n",
    "    # password input hashed\n",
    "    pwd = getpass.getpass(\"password: \") \n",
    "except Exception as ex:\n",
    "    print('Error Occured : ', ex)\n",
    "\n",
    "#host for RDS connection\n",
    "host = \"mdsi-dsp-spr-2020.cehiwpryiego.ap-southeast-2.rds.amazonaws.com\"\n",
    "mydb = connect_mysql(host, id, pwd)\n",
    "\n",
    "if mydb: \n",
    "    print(\"Connection Successful\")\n",
    "    "
   ]
  },
  {
   "cell_type": "code",
   "execution_count": 2,
   "metadata": {},
   "outputs": [
    {
     "name": "stdout",
     "output_type": "stream",
     "text": [
      "['asx', 'information_schema', 'mysql', 'performance_schema']\n"
     ]
    }
   ],
   "source": [
    "from functions import mysql_list\n",
    "mydb = connect_mysql(host, id, pwd)\n",
    "mycursor = mydb.cursor()\n",
    "mycursor.execute(\"SHOW DATABASES;\")\n",
    "# create a list of database\n",
    "db_list = mysql_list(mycursor.fetchall())\n",
    "print(db_list) \n",
    "# asx is the database to be used\n",
    "db = \"asx\""
   ]
  },
  {
   "cell_type": "code",
   "execution_count": 3,
   "metadata": {},
   "outputs": [
    {
     "name": "stdout",
     "output_type": "stream",
     "text": [
      "['GDP_history_year', 'asx200', 'asx_all', 'asx_history', 'cashrate', 'exchange_rate']\n"
     ]
    }
   ],
   "source": [
    "mydb = connect_mysql(host, id, pwd, db)\n",
    "mycursor = mydb.cursor()\n",
    "mycursor.execute(\"SHOW TABLES;\")\n",
    "tb_list = mysql_list(mycursor.fetchall())\n",
    "print(tb_list)"
   ]
  },
  {
   "cell_type": "code",
   "execution_count": 4,
   "metadata": {},
   "outputs": [
    {
     "name": "stdout",
     "output_type": "stream",
     "text": [
      "GDP_history_year\n",
      "asx200\n",
      "asx_all\n",
      "asx_history\n",
      "cashrate\n",
      "exchange_rate\n"
     ]
    }
   ],
   "source": [
    "\n",
    "mydb = connect_mysql(host, id, pwd, db)\n",
    "\n",
    "for tb in tb_list:\n",
    "    print(tb)\n"
   ]
  },
  {
   "cell_type": "code",
   "execution_count": 5,
   "metadata": {},
   "outputs": [
    {
     "data": {
      "text/html": [
       "<div>\n",
       "<style scoped>\n",
       "    .dataframe tbody tr th:only-of-type {\n",
       "        vertical-align: middle;\n",
       "    }\n",
       "\n",
       "    .dataframe tbody tr th {\n",
       "        vertical-align: top;\n",
       "    }\n",
       "\n",
       "    .dataframe thead th {\n",
       "        text-align: right;\n",
       "    }\n",
       "</style>\n",
       "<table border=\"1\" class=\"dataframe\">\n",
       "  <thead>\n",
       "    <tr style=\"text-align: right;\">\n",
       "      <th></th>\n",
       "      <th>Code</th>\n",
       "      <th>Open</th>\n",
       "      <th>High</th>\n",
       "      <th>Low</th>\n",
       "      <th>Close</th>\n",
       "      <th>Adj Close</th>\n",
       "      <th>Volume</th>\n",
       "    </tr>\n",
       "    <tr>\n",
       "      <th>Date</th>\n",
       "      <th></th>\n",
       "      <th></th>\n",
       "      <th></th>\n",
       "      <th></th>\n",
       "      <th></th>\n",
       "      <th></th>\n",
       "      <th></th>\n",
       "    </tr>\n",
       "  </thead>\n",
       "  <tbody>\n",
       "    <tr>\n",
       "      <th>2015-10-05</th>\n",
       "      <td>ASX</td>\n",
       "      <td>39.00</td>\n",
       "      <td>39.15</td>\n",
       "      <td>38.63</td>\n",
       "      <td>38.99</td>\n",
       "      <td>32.59202</td>\n",
       "      <td>408405</td>\n",
       "    </tr>\n",
       "    <tr>\n",
       "      <th>2015-10-06</th>\n",
       "      <td>ASX</td>\n",
       "      <td>39.20</td>\n",
       "      <td>39.30</td>\n",
       "      <td>38.91</td>\n",
       "      <td>39.03</td>\n",
       "      <td>32.62545</td>\n",
       "      <td>367640</td>\n",
       "    </tr>\n",
       "    <tr>\n",
       "      <th>2015-10-07</th>\n",
       "      <td>ASX</td>\n",
       "      <td>39.30</td>\n",
       "      <td>39.70</td>\n",
       "      <td>38.54</td>\n",
       "      <td>39.00</td>\n",
       "      <td>32.60038</td>\n",
       "      <td>468017</td>\n",
       "    </tr>\n",
       "    <tr>\n",
       "      <th>2015-10-08</th>\n",
       "      <td>ASX</td>\n",
       "      <td>38.91</td>\n",
       "      <td>39.31</td>\n",
       "      <td>38.83</td>\n",
       "      <td>38.97</td>\n",
       "      <td>32.57530</td>\n",
       "      <td>394003</td>\n",
       "    </tr>\n",
       "    <tr>\n",
       "      <th>2015-10-09</th>\n",
       "      <td>ASX</td>\n",
       "      <td>39.26</td>\n",
       "      <td>39.39</td>\n",
       "      <td>39.07</td>\n",
       "      <td>39.25</td>\n",
       "      <td>32.80936</td>\n",
       "      <td>557841</td>\n",
       "    </tr>\n",
       "  </tbody>\n",
       "</table>\n",
       "</div>"
      ],
      "text/plain": [
       "           Code   Open   High    Low  Close  Adj Close  Volume\n",
       "Date                                                          \n",
       "2015-10-05  ASX  39.00  39.15  38.63  38.99   32.59202  408405\n",
       "2015-10-06  ASX  39.20  39.30  38.91  39.03   32.62545  367640\n",
       "2015-10-07  ASX  39.30  39.70  38.54  39.00   32.60038  468017\n",
       "2015-10-08  ASX  38.91  39.31  38.83  38.97   32.57530  394003\n",
       "2015-10-09  ASX  39.26  39.39  39.07  39.25   32.80936  557841"
      ]
     },
     "metadata": {},
     "output_type": "display_data"
    },
    {
     "data": {
      "image/png": "[encoded data removed]",
      "text/plain": [
       "<Figure size 432x288 with 1 Axes>"
      ]
     },
     "metadata": {
      "needs_background": "light"
     },
     "output_type": "display_data"
    }
   ],
   "source": [
    "mydb = connect_mysql(host, id, pwd, db)\n",
    "\n",
    "df = pd.read_sql_query(\"SELECT * FROM asx_history WHERE Code in ('ASX', 'BHP', 'CBA')\", con=mydb, index_col = \"Date\")\n",
    "mydb.close()\n",
    "display(df.head())\n",
    "sns.lineplot(x = df.index, y = \"Close\", data = df, hue = \"Code\")\n",
    "plt.show()\n"
   ]
  }
 ],
 "metadata": {
  "kernelspec": {
   "display_name": "Python 3",
   "language": "python",
   "name": "python3"
  },
  "language_info": {
   "codemirror_mode": {
    "name": "ipython",
    "version": 3
   },
   "file_extension": ".py",
   "mimetype": "text/x-python",
   "name": "python",
   "nbconvert_exporter": "python",
   "pygments_lexer": "ipython3",
   "version": "3.8.3"
  }
 },
 "nbformat": 4,
 "nbformat_minor": 4
}
