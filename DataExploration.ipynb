{
 "cells": [
  {
   "cell_type": "code",
   "execution_count": 1,
   "metadata": {},
   "outputs": [
    {
     "name": "stdout",
     "output_type": "stream",
     "text": [
      "Connection Successful\n"
     ]
    }
   ],
   "source": [
    "import pandas as pd\n",
    "import getpass\n",
    "from functions import connect_mysql\n",
    "\n",
    "\n",
    "# Input User id\n",
    "try:\n",
    "    # password input hashed\n",
    "    id = getpass.getpass(\"id: yixin\")\n",
    "except Exception as ex:\n",
    "    print('Error Occured : ', ex)\n",
    "#Input password\n",
    "try:\n",
    "    # password input hashed\n",
    "    pwd = getpass.getpass(\"password: utsmdsi2020\")\n",
    "except Exception as ex:\n",
    "    print('Error Occured : ', ex)\n",
    "\n",
    "#host for RDS connection\n",
    "host = \"mdsi-dsp-spr-2020.cehiwpryiego.ap-southeast-2.rds.amazonaws.com\"\n",
    "mydb = connect_mysql(host, id, pwd)\n",
    "\n",
    "if mydb: \n",
    "    print(\"Connection Successful\")\n",
    "    "
   ]
  },
  {
   "cell_type": "code",
   "execution_count": null,
   "metadata": {},
   "outputs": [],
   "source": [
    "from functions import mysql_list\n",
    "mydb = connect_mysql(host, id, pwd)\n",
    "mycursor = mydb.cursor()\n",
    "mycursor.execute(\"SHOW DATABASES;\")\n",
    "# create a list of database\n",
    "db_list = mysql_list(mycursor.fetchall())\n",
    "print(db_list) \n",
    "# asx is the database to be used\n",
    "db = \"asx\""
   ]
  },
  {
   "cell_type": "code",
   "execution_count": null,
   "metadata": {},
   "outputs": [],
   "source": [
    "mydb = connect_mysql(host, id, pwd, db)\n",
    "mycursor = mydb.cursor()\n",
    "mycursor.execute(\"SHOW TABLES;\")\n",
    "tb_list = mysql_list(mycursor.fetchall())\n",
    "print(tb_list)"
   ]
  },
  {
   "cell_type": "code",
   "execution_count": null,
   "metadata": {},
   "outputs": [],
   "source": [
    "from IPython.display import display, HTML\n",
    "mydb = connect_mysql(host, id, pwd, db)\n",
    "\n",
    "for tb in tb_list:\n",
    "    df = pd.read_sql_query(\"SELECT * FROM %s\" % (tb), con=mydb)\n",
    "    print(tb)\n",
    "mydb.close()"
   ]
  }
 ],
 "metadata": {
  "kernelspec": {
   "display_name": "Python 3",
   "language": "python",
   "name": "python3"
  },
  "language_info": {
   "codemirror_mode": {
    "name": "ipython",
    "version": 3
   },
   "file_extension": ".py",
   "mimetype": "text/x-python",
   "name": "python",
   "nbconvert_exporter": "python",
   "pygments_lexer": "ipython3",
   "version": "3.8.5"
  }
 },
 "nbformat": 4,
 "nbformat_minor": 4
}