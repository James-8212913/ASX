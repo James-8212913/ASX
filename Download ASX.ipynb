{
 "cells": [
  {
   "cell_type": "code",
   "execution_count": 1,
   "metadata": {},
   "outputs": [
    {
     "name": "stdout",
     "output_type": "stream",
     "text": [
      "id: ········\n",
      "password: ········\n",
      "Connection Successful\n"
     ]
    }
   ],
   "source": [
    "import pandas as pd\n",
    "import getpass\n",
    "from functions import connect_mysql, mysql_list\n",
    "import datetime\n",
    "import urllib\n",
    "from sqlalchemy import create_engine\n",
    "import sys\n",
    "# Input User id\n",
    "try:\n",
    "    # password input hashed\n",
    "    id = getpass.getpass(\"id: \") \n",
    "except Exception as ex:\n",
    "    print('Error Occured : ', ex)\n",
    "#Input password\n",
    "try:\n",
    "    # password input hashed\n",
    "    pwd = getpass.getpass(\"password: \") \n",
    "except Exception as ex:\n",
    "    print('Error Occured : ', ex)\n",
    "\n",
    "#host for RDS connection\n",
    "host = \"mdsi-dsp-spr-2020.cehiwpryiego.ap-southeast-2.rds.amazonaws.com\"\n",
    "mydb = connect_mysql(host, id, pwd)\n",
    "\n",
    "if mydb: \n",
    "    print(\"Connection Successful\")"
   ]
  },
  {
   "cell_type": "code",
   "execution_count": 2,
   "metadata": {},
   "outputs": [
    {
     "name": "stdout",
     "output_type": "stream",
     "text": [
      "Period1 : 1601514000\n",
      "Period2 : 1601942400\n"
     ]
    }
   ],
   "source": [
    "#today in date format\n",
    "today = datetime.date.today()\n",
    "#today in datetime format\n",
    "today = datetime.datetime(\n",
    "        year = today.year, \n",
    "        month = today.month,\n",
    "        day = today.day ,\n",
    "        hour = 11)\n",
    "period1 = int((today - datetime.timedelta(days = 5)).timestamp()) # 7 days of data\n",
    "# period1 = int(today.replace(year = today.year - 7).timestamp()) # 7 years of data\n",
    "period2 = int(today.timestamp())\n",
    "\n",
    "print(\"Period1 : %s\" % period1)\n",
    "print(\"Period2 : %s\" % period2)\n",
    "\n",
    "params = {\"period1\": period1,\n",
    "          \"period2\": period2,\n",
    "          \"interveral\": \"1d\", # daily price\n",
    "          \"events\": \"history\"\n",
    "}"
   ]
  },
  {
   "cell_type": "code",
   "execution_count": 3,
   "metadata": {},
   "outputs": [],
   "source": [
    "db = \"asx\"\n",
    "mydb = connect_mysql(host, id, pwd, db)\n",
    "df = pd.read_sql_query(\"SELECT Code FROM asx200\", con=mydb)\n",
    "\n",
    "k = df.Code\n",
    "v = (df.Code+ \".AX\").tolist()\n",
    "# Create dictionary based on ASX code & yahoo code\n",
    "asx_index = dict(zip(k, v))\n",
    "# Add \n",
    "asx_index[\"AXJO\"] = \"^AXJO\" "
   ]
  },
  {
   "cell_type": "code",
   "execution_count": 4,
   "metadata": {},
   "outputs": [
    {
     "name": "stdout",
     "output_type": "stream",
     "text": [
      "Download Successful  \r"
     ]
    }
   ],
   "source": [
    "# create blank dataframe for data     \n",
    "asx = pd.DataFrame(columns=[\"Code\", 'Date','Open','High','Low','Close','Adj Close','Volume'])\n",
    "\n",
    "    \n",
    "for key, value in asx_index.items():\n",
    "    # url for file download request\n",
    "    url = \"https://query1.finance.yahoo.com/v7/finance/download/%s?%s\" %(value, urllib.parse.urlencode(params))\n",
    "    print(\"Downloading %s: %s\" %(list(asx_index.keys()).index(key)+1, key), end=\"\\r\")\n",
    "    with urllib.request.urlopen(url) as f:\n",
    "        temp = pd.read_csv(f)\n",
    "    temp['Code'] = key\n",
    "    asx = asx.append(temp)\n",
    "asx = asx.dropna()\n",
    "print(\"Download Successful  \", end = \"\\r\")\n"
   ]
  },
  {
   "cell_type": "code",
   "execution_count": 5,
   "metadata": {},
   "outputs": [
    {
     "name": "stdout",
     "output_type": "stream",
     "text": [
      "0 row(s) in asx_history are Updated\r"
     ]
    }
   ],
   "source": [
    "mydb = connect_mysql(host, id, pwd, db)\n",
    "mycursor = mydb.cursor()\n",
    "nrow = pd.read_sql_query(\"SELECT COUNT(*) FROM asx_history\" , con=mydb).iloc[0,0]\n",
    "\n",
    "try:\n",
    "    engine = create_engine('mysql+mysqlconnector://%s:%s@%s:%s/%s' % (id, pwd, host, 3306, db), echo=False)\n",
    "    asx.to_sql('asx_history', con=engine, if_exists = 'append', index=False)\n",
    "except:\n",
    "    for i in range(len(asx)):\n",
    "        sql = \"INSERT IGNORE INTO asx_history VALUES (%s, %s, %s, %s, %s, %s, %s, %s)\"\n",
    "        print(\"Updating %s of %s\" %(i+1, len(asx)), end=\"\\r\")\n",
    "        val = list(map(lambda x: str(x), asx.iloc[i,:].values.tolist()))\n",
    "        try:\n",
    "            mycursor.execute(sql, val)\n",
    "            mydb.commit()\n",
    "        except Exception as e:\n",
    "            print(e)\n",
    "\n",
    "rows_updated = pd.read_sql_query(\"SELECT COUNT(*) FROM asx_history\" , con=mydb).iloc[0,0] - nrow\n",
    "print(\"%s row(s) in asx_history are Updated\" % (rows_updated) , end = \"\\r\")"
   ]
  }
 ],
 "metadata": {
  "kernelspec": {
   "display_name": "Python 3",
   "language": "python",
   "name": "python3"
  },
  "language_info": {
   "codemirror_mode": {
    "name": "ipython",
    "version": 3
   },
   "file_extension": ".py",
   "mimetype": "text/x-python",
   "name": "python",
   "nbconvert_exporter": "python",
   "pygments_lexer": "ipython3",
   "version": "3.8.3"
  }
 },
 "nbformat": 4,
 "nbformat_minor": 4
}
